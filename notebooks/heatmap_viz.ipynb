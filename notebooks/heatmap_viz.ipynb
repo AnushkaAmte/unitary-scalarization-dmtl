{
 "cells": [
  {
   "cell_type": "code",
   "execution_count": 1,
   "metadata": {},
   "outputs": [],
   "source": [
    "import numpy as np\n",
    "import pandas as pd\n",
    "import torch\n",
    "import os"
   ]
  },
  {
   "cell_type": "code",
   "execution_count": 2,
   "metadata": {},
   "outputs": [],
   "source": [
    "heatmap_dirname = \"/scratch/mariamma/mtl/heatmap/original/\"\n",
    "image_dirname = \"/scratch/mariamma/xraysetu/dataset/covid_binary_test/\""
   ]
  },
  {
   "cell_type": "code",
   "execution_count": 14,
   "metadata": {},
   "outputs": [
    {
     "data": {
      "text/plain": [
       "tensor([[1.2624e-01, 2.2119e-01, 3.1888e-01,  ..., 8.6144e-01, 8.9114e-01,\n",
       "         5.2904e-01],\n",
       "        [1.8846e-01, 4.5498e-02, 2.9400e-02,  ..., 7.0712e-02, 1.4691e-01,\n",
       "         1.0686e-01],\n",
       "        [1.4387e-01, 4.4066e-02, 1.6843e-02,  ..., 7.0067e-03, 6.4855e-03,\n",
       "         0.0000e+00],\n",
       "        ...,\n",
       "        [1.7084e-02, 0.0000e+00, 1.7255e-03,  ..., 7.4147e-03, 1.7273e-02,\n",
       "         2.2167e-03],\n",
       "        [1.0774e-02, 0.0000e+00, 4.9691e-04,  ..., 6.6184e-03, 1.7155e-02,\n",
       "         0.0000e+00],\n",
       "        [3.0640e-02, 0.0000e+00, 2.1368e-03,  ..., 3.3788e-02, 1.4538e-01,\n",
       "         4.0440e-02]], device='cuda:0')"
      ]
     },
     "execution_count": 14,
     "metadata": {},
     "output_type": "execute_result"
    }
   ],
   "source": [
    "filename = \"0_NON_COVID_73028cb3-d09d-4d81-9640-88ef1571a4f1.pt\"\n",
    "heatmap = torch.load(os.path.join(heatmap_dirname, filename))\n",
    "image_name = \"0_NON_COVID/73028cb3-d09d-4d81-9640-88ef1571a4f1.png\"\n",
    "heatmap\n"
   ]
  },
  {
   "cell_type": "code",
   "execution_count": 16,
   "metadata": {},
   "outputs": [
    {
     "name": "stdout",
     "output_type": "stream",
     "text": [
      "(1024, 1024, 3)\n"
     ]
    }
   ],
   "source": [
    "import cv2\n",
    "img = cv2.imread(os.path.join(image_dirname, image_name))\n",
    "print(img.shape)\n",
    "img = cv2.resize(img, (64, 64))\n",
    "heatmap = heatmap.cpu().detach().numpy()\n",
    "heatmap = np.uint8(255 * heatmap)\n",
    "heatmap = cv2.applyColorMap(heatmap, cv2.COLORMAP_JET)\n",
    "superimposed_img = heatmap * 0.4 + img\n"
   ]
  },
  {
   "cell_type": "code",
   "execution_count": 17,
   "metadata": {},
   "outputs": [
    {
     "data": {
      "text/plain": [
       "array([[[213. , 111. , 111. ],\n",
       "        [121. ,  57.4,  19. ],\n",
       "        [115. ,  91.4,  13. ],\n",
       "        ...,\n",
       "        [155. , 161.4, 257. ],\n",
       "        [166. , 166. , 262. ],\n",
       "        [213.8, 275. , 234.6]],\n",
       "\n",
       "       [[205. , 128.6, 103. ],\n",
       "        [ 84.8,  16. ,  16. ],\n",
       "        [ 76.4,  14. ,  14. ],\n",
       "        ...,\n",
       "        [ 91. ,  11. ,  11. ],\n",
       "        [111. ,  17. ,   9. ],\n",
       "        [104.4,  10. ,  10. ]],\n",
       "\n",
       "       [[199. , 103.4,  97. ],\n",
       "        [ 84.8,  16. ,  16. ],\n",
       "        [ 70.6,  13. ,  13. ],\n",
       "        ...,\n",
       "        [ 63.8,  11. ,  11. ],\n",
       "        [ 64.8,  12. ,  12. ],\n",
       "        [ 63.2,  12. ,  12. ]],\n",
       "\n",
       "       ...,\n",
       "\n",
       "       [[ 66.6,   9. ,   9. ],\n",
       "        [ 61.2,  10. ,  10. ],\n",
       "        [ 62.2,  11. ,  11. ],\n",
       "        ...,\n",
       "        [ 59.8,   7. ,   7. ],\n",
       "        [ 63.6,   6. ,   6. ],\n",
       "        [122.2,  71. ,  71. ]],\n",
       "\n",
       "       [[ 64.4,  10. ,  10. ],\n",
       "        [ 63.2,  12. ,  12. ],\n",
       "        [ 60.2,   9. ,   9. ],\n",
       "        ...,\n",
       "        [ 59.8,   7. ,   7. ],\n",
       "        [ 64.6,   7. ,   7. ],\n",
       "        [125.2,  74. ,  74. ]],\n",
       "\n",
       "       [[ 71.4,   9. ,   9. ],\n",
       "        [ 62.2,  11. ,  11. ],\n",
       "        [ 62.2,  11. ,  11. ],\n",
       "        ...,\n",
       "        [ 71. ,   7. ,   7. ],\n",
       "        [109. ,  15. ,   7. ],\n",
       "        [146.2,  79. ,  79. ]]])"
      ]
     },
     "execution_count": 17,
     "metadata": {},
     "output_type": "execute_result"
    }
   ],
   "source": [
    "superimposed_img"
   ]
  },
  {
   "cell_type": "code",
   "execution_count": 18,
   "metadata": {},
   "outputs": [
    {
     "data": {
      "text/plain": [
       "True"
      ]
     },
     "execution_count": 18,
     "metadata": {},
     "output_type": "execute_result"
    }
   ],
   "source": [
    "cv2.imwrite('/home/mariammaa/mtl/unitary-scalarization-dmtl/notebooks/map.jpg', superimposed_img)"
   ]
  },
  {
   "cell_type": "code",
   "execution_count": 3,
   "metadata": {},
   "outputs": [],
   "source": [
    "dirname = \"/scratch/mariamma/mtl/heatmap/csvfiles/\""
   ]
  },
  {
   "cell_type": "code",
   "execution_count": 13,
   "metadata": {},
   "outputs": [],
   "source": [
    "file_full = \"ols_Ate_Eff_Inf_Mas_Nod_Pne_Pnt_Con_Ple_Nor_Cov_baseline-lr:0.001-wd:0.0_olive-aardvark-322.csv\"\n",
    "file_cov = \"ols_Pne_Nor_Cov0.0_magic-smoke-320_gradcam.csv\"\n",
    "file_ate = \"ols_Ate_Pne_Nor_Cov_baseline-lr:0.001-wd:0.0_sweet-lake-327_Gradcam.csv\"\n",
    "file_inf = \"ols_Inf_Pne_Nor_Cov_baseline-lr:0.001-wd:0.0_decent-blaze-329_Gradcam.csv\"\n",
    "file_eff = \"ols_Eff_Pne_Nor_Cov_baseline-lr:0.001-wd:0.0_comic-morning-328_Gradcam.csv\"\n",
    "file_ple = \"ols_Pne_Ple_Nor_Cov_baseline-lr:0.001-wd:0.0_playful-blaze-330_Gradcam.csv\"\n",
    "file_mas = \"ols_Mas_Pne_Nor_Cov_baseline-lr:0.001-wd:0.0_lucky-monkey-333_Gradcam.csv\"\n",
    "file_nod = \"ols_Nod_Pne_Nor_Cov_baseline-lr:0.001-wd:0.0_copper-frost-336_Gradcam.csv\""
   ]
  },
  {
   "cell_type": "code",
   "execution_count": 14,
   "metadata": {},
   "outputs": [],
   "source": [
    "def get_hf_lf(filename):\n",
    "    for x in ['0.5']:\n",
    "        df = pd.read_csv(os.path.join(dirname,filename))\n",
    "        df_hr = df[df['HR_Score_'+x] < 0.4]\n",
    "        df_lr = df[df['LR_Score_'+x] < 0.4]\n",
    "        print(\"HR : {}, LR : {}\".format(df_hr.shape[0]/df.shape[0], df_lr.shape[0]/df.shape[0]))\n",
    "        # print(1 - df['HR_Score'].mean())\n",
    "        # print(1 - df['LR_Score'].mean())"
   ]
  },
  {
   "cell_type": "code",
   "execution_count": 15,
   "metadata": {},
   "outputs": [
    {
     "name": "stdout",
     "output_type": "stream",
     "text": [
      "HR : 0.2957190357439734, LR : 0.25353283458021614\n",
      "HR : 0.3559850374064838, LR : 0.34704904405652537\n"
     ]
    }
   ],
   "source": [
    "get_hf_lf(file_full)\n",
    "get_hf_lf(file_cov)"
   ]
  },
  {
   "cell_type": "code",
   "execution_count": 16,
   "metadata": {},
   "outputs": [
    {
     "name": "stdout",
     "output_type": "stream",
     "text": [
      "HR : 0.4060681629260183, LR : 0.42144638403990026\n"
     ]
    }
   ],
   "source": [
    "get_hf_lf(file_ate)"
   ]
  },
  {
   "cell_type": "code",
   "execution_count": 17,
   "metadata": {},
   "outputs": [
    {
     "name": "stdout",
     "output_type": "stream",
     "text": [
      "HR : 0.32356608478802995, LR : 0.31733167082294267\n"
     ]
    }
   ],
   "source": [
    "get_hf_lf(file_inf)"
   ]
  },
  {
   "cell_type": "code",
   "execution_count": 18,
   "metadata": {},
   "outputs": [
    {
     "name": "stdout",
     "output_type": "stream",
     "text": [
      "HR : 0.2470906068162926, LR : 0.26787198669991685\n"
     ]
    }
   ],
   "source": [
    "get_hf_lf(file_eff)"
   ]
  },
  {
   "cell_type": "code",
   "execution_count": 9,
   "metadata": {},
   "outputs": [
    {
     "name": "stdout",
     "output_type": "stream",
     "text": [
      "HR : 0.47485453034081465, LR : 0.48129675810473815\n"
     ]
    }
   ],
   "source": [
    "get_hf_lf(file_ple)"
   ]
  },
  {
   "cell_type": "code",
   "execution_count": 19,
   "metadata": {},
   "outputs": [
    {
     "name": "stdout",
     "output_type": "stream",
     "text": [
      "HR : 0.39089775561097256, LR : 0.42581047381546133\n"
     ]
    }
   ],
   "source": [
    "get_hf_lf(file_mas)"
   ]
  },
  {
   "cell_type": "code",
   "execution_count": 20,
   "metadata": {},
   "outputs": [
    {
     "name": "stdout",
     "output_type": "stream",
     "text": [
      "HR : 0.32855361596009974, LR : 0.31525353283458024\n"
     ]
    }
   ],
   "source": [
    "get_hf_lf(file_nod)"
   ]
  },
  {
   "cell_type": "code",
   "execution_count": null,
   "metadata": {},
   "outputs": [],
   "source": []
  }
 ],
 "metadata": {
  "kernelspec": {
   "display_name": "Python 3.9.7 ('myenv': conda)",
   "language": "python",
   "name": "python3"
  },
  "language_info": {
   "codemirror_mode": {
    "name": "ipython",
    "version": 3
   },
   "file_extension": ".py",
   "mimetype": "text/x-python",
   "name": "python",
   "nbconvert_exporter": "python",
   "pygments_lexer": "ipython3",
   "version": "3.9.7"
  },
  "orig_nbformat": 4,
  "vscode": {
   "interpreter": {
    "hash": "0887df0ba4b65912983399ef6c16df6556f63eb8cbf5a6bf572f11775d669e73"
   }
  }
 },
 "nbformat": 4,
 "nbformat_minor": 2
}
